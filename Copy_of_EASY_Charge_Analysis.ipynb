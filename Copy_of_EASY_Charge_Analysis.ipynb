{
  "nbformat": 4,
  "nbformat_minor": 0,
  "metadata": {
    "colab": {
      "name": "Copy of EASY Charge Analysis.ipynb",
      "provenance": [],
      "collapsed_sections": [
        "u_KIsNU_Ede1",
        "wTPh52_OD7yT",
        "HwI8wdXUEEYL",
        "yQZxrLbCEHy_",
        "RXCTmsexEKtJ",
        "r2t5TmByEM47",
        "Ie8PilAQEPcz"
      ],
      "toc_visible": true
    },
    "kernelspec": {
      "name": "python3",
      "display_name": "Python 3"
    },
    "language_info": {
      "name": "python"
    }
  },
  "cells": [
    {
      "cell_type": "markdown",
      "metadata": {
        "id": "NFYTLngl5hmd"
      },
      "source": [
        "## Initial steps:\n",
        "\n",
        "1.   Copy this notebook to your google Colab account (*File --> Save a Copy in Drive*)\n",
        "2.   Go to your drive and open the copied file, located in your *Colab Notebooks* folder\n",
        "\n",
        "##Working with Collab Notebooks:\n",
        "\n",
        "1.   Click inside a cell with code and press SHIFT+ENTER (or click \"PLAY\" button) to execute it.\n",
        "2.   Re-executing a cell will reset it (any input will be lost).\n",
        "3.   Execute cells TOP TO BOTTOM.\n",
        "4.  Use TAB for [code autocompletion and function parameters hint](https://colab.research.google.com/notebooks/basic_features_overview.ipynb#scrollTo=d4L9TOP9QSHn)\n",
        "5. Notebooks are saved to your Google Drive (make sure to click on \"COPY TO DRIVE\" when opening a notebook shared with you).\n",
        "6. Mount your Google Drive to have a direct access from a notebook to the files stored in the drive (this includes Team Drives).\n",
        "7. If using Colab's virtual storage only, all the uploaded/stored files will get deleted when a runtime is recycled."
      ]
    },
    {
      "cell_type": "code",
      "metadata": {
        "colab": {
          "base_uri": "https://localhost:8080/"
        },
        "id": "2HGcFrJL5pCj",
        "outputId": "451dc470-1b21-4419-f693-1e68052cf71b"
      },
      "source": [
        "from google.colab import drive\n",
        "drive.mount('/content/gdrive',force_remount=True)"
      ],
      "execution_count": null,
      "outputs": [
        {
          "output_type": "stream",
          "text": [
            "Mounted at /content/gdrive\n"
          ],
          "name": "stdout"
        }
      ]
    },
    {
      "cell_type": "code",
      "metadata": {
        "id": "_P8q9N015r5V",
        "colab": {
          "base_uri": "https://localhost:8080/"
        },
        "outputId": "41e263bf-53d0-44e0-c1b5-c11c040dbc6b"
      },
      "source": [
        "google_drive_dir = \"/content/gdrive/My Drive/EASY-ChargeCollection/\"\n",
        "!mkdir \"$google_drive_dir\""
      ],
      "execution_count": null,
      "outputs": [
        {
          "output_type": "stream",
          "text": [
            "mkdir: cannot create directory ‘/content/gdrive/My Drive/EASY-ChargeCollection/’: File exists\n"
          ],
          "name": "stdout"
        }
      ]
    },
    {
      "cell_type": "code",
      "metadata": {
        "id": "JtPIRrdL5vJc",
        "colab": {
          "base_uri": "https://localhost:8080/"
        },
        "outputId": "b50c9174-a2dd-4984-aa60-5aa825b65c82"
      },
      "source": [
        "# Download Data\n",
        "easydata_zip = google_drive_dir+\"EasyDATA.zip\"\n",
        "!wget https://www.dropbox.com/sh/7o5xy3bad99vmwi/AACTjc49mADsd7Jni0q31mXma?dl=1 -O \"$easydata_zip\"\n",
        "%cd \"$google_drive_dir\"\n",
        "!unzip EasyDATA.zip\n"
      ],
      "execution_count": null,
      "outputs": [
        {
          "output_type": "stream",
          "text": [
            "--2021-07-19 09:47:23--  https://www.dropbox.com/sh/7o5xy3bad99vmwi/AACTjc49mADsd7Jni0q31mXma?dl=1\n",
            "Resolving www.dropbox.com (www.dropbox.com)... 162.125.5.18, 2620:100:601d:18::a27d:512\n",
            "Connecting to www.dropbox.com (www.dropbox.com)|162.125.5.18|:443... connected.\n",
            "HTTP request sent, awaiting response... 301 Moved Permanently\n",
            "Location: /sh/dl/7o5xy3bad99vmwi/AACTjc49mADsd7Jni0q31mXma [following]\n",
            "--2021-07-19 09:47:23--  https://www.dropbox.com/sh/dl/7o5xy3bad99vmwi/AACTjc49mADsd7Jni0q31mXma\n",
            "Reusing existing connection to www.dropbox.com:443.\n",
            "HTTP request sent, awaiting response... 302 Found\n",
            "Location: https://ucc403c2fe1b5c40c4698f2688c8.dl.dropboxusercontent.com/zip_download_get/A18uQpvN5XxPnsZRu5Mkk54mZUOQjagNgxAoFVfhvBgpH4x49Bb6DDAAIywQ9SM0VdvCBxsxDzPW1_xSGQXiCvvK5ZaACE1m83StzNwK4V4xXw?dl=1# [following]\n",
            "--2021-07-19 09:47:24--  https://ucc403c2fe1b5c40c4698f2688c8.dl.dropboxusercontent.com/zip_download_get/A18uQpvN5XxPnsZRu5Mkk54mZUOQjagNgxAoFVfhvBgpH4x49Bb6DDAAIywQ9SM0VdvCBxsxDzPW1_xSGQXiCvvK5ZaACE1m83StzNwK4V4xXw?dl=1\n",
            "Resolving ucc403c2fe1b5c40c4698f2688c8.dl.dropboxusercontent.com (ucc403c2fe1b5c40c4698f2688c8.dl.dropboxusercontent.com)... 162.125.5.15, 2620:100:601d:15::a27d:50f\n",
            "Connecting to ucc403c2fe1b5c40c4698f2688c8.dl.dropboxusercontent.com (ucc403c2fe1b5c40c4698f2688c8.dl.dropboxusercontent.com)|162.125.5.15|:443... connected.\n",
            "HTTP request sent, awaiting response... 200 OK\n",
            "Length: 130487312 (124M) [application/zip]\n",
            "Saving to: ‘/content/gdrive/My Drive/EASY-ChargeCollection/EasyDATA.zip’\n",
            "\n",
            "/content/gdrive/My  100%[===================>] 124.44M  43.6MB/s    in 2.9s    \n",
            "\n",
            "2021-07-19 09:47:27 (43.6 MB/s) - ‘/content/gdrive/My Drive/EASY-ChargeCollection/EasyDATA.zip’ saved [130487312/130487312]\n",
            "\n",
            "/content/gdrive/My Drive/EASY-ChargeCollection\n",
            "Archive:  EasyDATA.zip\n",
            "warning:  stripped absolute path spec from /\n",
            "mapname:  conversion of  failed\n",
            " extracting: Diodo-lat129.h5         \n",
            " extracting: Diodo-lat129-20V.h5     \n",
            " extracting: Diodo-lat129-40V.h5     \n",
            " extracting: Diodo-lat129-90V.h5     \n",
            " extracting: Diodo-lat129-30V.h5     \n",
            " extracting: Diodo-lat129-80V.h5     \n",
            " extracting: Diodo-lat129-50V.h5     \n",
            " extracting: Diodo-lat129-70V.h5     \n",
            " extracting: Diodo-lat129-10V.h5     \n",
            " extracting: Diodo-lat129-60V.h5     \n",
            " extracting: Diodo-lat129-150V.h5    \n",
            " extracting: Diodo-lat129-130V.h5    \n",
            " extracting: Diodo-lat129-200V.h5    \n",
            " extracting: Diodo-lat130-Pulse-Rec.h5  \n",
            " extracting: Diodo-lat129-Pulse-Rec.h5  \n",
            " extracting: Diodo-lat131-Pulse-Rec.h5  \n"
          ],
          "name": "stdout"
        }
      ]
    },
    {
      "cell_type": "code",
      "metadata": {
        "colab": {
          "base_uri": "https://localhost:8080/"
        },
        "id": "AVuZjuobFdwL",
        "outputId": "b44b4f06-3664-4545-97f4-12aafd841aa3"
      },
      "source": [
        "!echo \"$easydata_zip\""
      ],
      "execution_count": null,
      "outputs": [
        {
          "output_type": "stream",
          "text": [
            "/content/gdrive/My Drive/EASY/EasyDATA.zip\n"
          ],
          "name": "stdout"
        }
      ]
    },
    {
      "cell_type": "markdown",
      "metadata": {
        "id": "HSGnsx1f7DWL"
      },
      "source": [
        "# Load Libraries"
      ]
    },
    {
      "cell_type": "code",
      "metadata": {
        "id": "ad4HwgqB7CjJ"
      },
      "source": [
        "import os\n",
        "import sys\n",
        "\n",
        "from   scipy.stats import norm as gaus\n",
        "from   scipy import optimize\n",
        "import h5py\n",
        "import time\n",
        "import math\n",
        "from optparse import OptionParser\n",
        "from numpy import *\n",
        "\n",
        "import matplotlib.pyplot as plt\n",
        "import matplotlib.mlab as mlab\n",
        "import matplotlib.patches as patches\n",
        "import numpy as np\n",
        "\n",
        "from scipy.stats import norm"
      ],
      "execution_count": null,
      "outputs": []
    },
    {
      "cell_type": "markdown",
      "metadata": {
        "id": "tLo6fBFp5--m"
      },
      "source": [
        "# Functions"
      ]
    },
    {
      "cell_type": "code",
      "metadata": {
        "id": "xUhWFlsH59mF"
      },
      "source": [
        "#########################################\n",
        "# Define Landau (Moyal) and error function\n",
        "#########################################\n",
        "\n",
        "def fLandau(p, x):\n",
        "    \"\"\" Approximate the landau distribution with the Moyal\n",
        "        distribution\n",
        "        \n",
        "        Parameters:\n",
        "            p[0] = normalization\n",
        "            p[1] = mode\n",
        "            p[2] = width\n",
        "    \"\"\"\n",
        "    L = (x-p[1])/p[2]\n",
        "    r = p[0]*exp(-0.5*(L+exp(-L)))/2.506628274631001 #math.sqrt(2.0*math.pi)\n",
        "    return r\n",
        "\n",
        "def fitLandau(p, x, y):\n",
        "    \"\"\" This is the 'error' function we use for\n",
        "        the fit.\n",
        "    \"\"\"\n",
        "    return fLandau(p, x) - y\n",
        "\n",
        "########################################\n",
        "# Define Gaussian and error function\n",
        "########################################\n",
        "\n",
        "def fgauss(p, x):\n",
        "    \"\"\" This is a gaussion.\n",
        "        Parameters:\n",
        "           p[0] = maximum\n",
        "           p[1] = mean\n",
        "           p[2] = sigma\n",
        "    \"\"\"\n",
        "    L  = (x-p[1])/p[2]\n",
        "    L1 = p[0]*exp(-0.5*L*L)/(2.506628274631001*p[2])\n",
        "    return L1\n",
        "\n",
        "def fitGauss(p, x, y):\n",
        "    \"\"\" The error function\n",
        "    \"\"\"\n",
        "    return fgauss(p, x) - y"
      ],
      "execution_count": null,
      "outputs": []
    },
    {
      "cell_type": "code",
      "metadata": {
        "id": "BiBPqE_j6GnF"
      },
      "source": [
        "#########################################\n",
        "# Implements the GLib GTimer\n",
        "#########################################\n",
        "class GTimer(object):\n",
        "    \"\"\" Implements the GLib GTimer\n",
        "    \"\"\"\n",
        "    def __init__(self):\n",
        "        self._start = 0\n",
        "        self._end = 0\n",
        "        self._running = False\n",
        "        \n",
        "    def start(self):\n",
        "        self._start = time.time()\n",
        "        \n",
        "    def __call__(self):\n",
        "        if self._running:\n",
        "            return time.time() - self._start\n",
        "        \n",
        "        else:\n",
        "            return 0.0\n",
        "        \n",
        "    def start(self):\n",
        "        self._start = time.time()\n",
        "        self._running = True\n",
        "        \n",
        "    def stop(self):\n",
        "        self._running = False\n",
        "        \n",
        "    def reset(self):\n",
        "        if self._running:\n",
        "            self._start = time.time()"
      ],
      "execution_count": null,
      "outputs": []
    },
    {
      "cell_type": "markdown",
      "metadata": {
        "id": "qAkfYeR76CRC"
      },
      "source": [
        "# Process Event Class"
      ]
    },
    {
      "cell_type": "code",
      "metadata": {
        "id": "q55ll5UX6OpJ"
      },
      "source": [
        "########################################\n",
        "#    Process the event \n",
        "# Get signal, common noise, noise and S/N\n",
        "######################################### \n",
        "def process_event(ievt, S, nchan, pedestal, noise):\n",
        "    \n",
        "    # signal without pedestals\n",
        "    ss = single(S[ievt,:]) - pedestal\n",
        "    \n",
        "    # compute ans subtract common mode\n",
        "    cm = 0\n",
        "    cmsig = 0\n",
        "    ssnew = zeros(nchan)\n",
        "    chpas = 0\n",
        "    cmnew = 0\n",
        "    cmsignew = 0\n",
        "\n",
        "    # First iteration to get mean and std\n",
        "    \n",
        "    cm= mean(ss[0:128])\n",
        "    cmsig= std(ss[0:128])\n",
        " \n",
        "    # Remove chanells with a charge larger than 3*std \n",
        "    \n",
        "    chpas=0\n",
        "    for ch in range(0, nchan):\n",
        "        if ss[ch]<(cm+(5*cmsig)):\n",
        "            ssnew[chpas]= ss[+ch]\n",
        "            chpas = chpas+1\n",
        "\n",
        "   # Second iteration to get mean and std\n",
        "    cmnew = mean(ssnew[0:chpas])\n",
        "    cmsignew= std(ssnew[0:chpas])\n",
        "\n",
        "    ss[0:128] -= cmnew \n",
        "\n",
        "    cm =cmnew\n",
        "    sn = ss/noise\n",
        "   \n",
        "    return ss, sn, cm\n"
      ],
      "execution_count": null,
      "outputs": []
    },
    {
      "cell_type": "markdown",
      "metadata": {
        "id": "wviLkq2a6xoI"
      },
      "source": [
        "# Check Data"
      ]
    },
    {
      "cell_type": "code",
      "metadata": {
        "colab": {
          "base_uri": "https://localhost:8080/"
        },
        "id": "S3jMr5fm9PQA",
        "outputId": "70e44a59-dcd3-421c-f8c9-921eb9815086"
      },
      "source": [
        "data_files = [os.path.join(google_drive_dir,f) for f in os.listdir(google_drive_dir) if os.path.join(google_drive_dir, f).endswith(\"h5\")]\n",
        "data_list = {i: data_files[i] for i in range(0, len(data_files))}\n",
        "data_list"
      ],
      "execution_count": null,
      "outputs": [
        {
          "output_type": "execute_result",
          "data": {
            "text/plain": [
              "{0: '/content/gdrive/My Drive/EASY-ChargeCollection/Diodo-lat130-Pulse-Rec.h5',\n",
              " 1: '/content/gdrive/My Drive/EASY-ChargeCollection/Diodo-lat131-Pulse-Rec.h5',\n",
              " 2: '/content/gdrive/My Drive/EASY-ChargeCollection/Diodo-lat129-Pulse-Rec.h5',\n",
              " 3: '/content/gdrive/My Drive/EASY-ChargeCollection/Diodo-lat129.h5',\n",
              " 4: '/content/gdrive/My Drive/EASY-ChargeCollection/Diodo-lat129-10V.h5',\n",
              " 5: '/content/gdrive/My Drive/EASY-ChargeCollection/Diodo-lat129-20V.h5',\n",
              " 6: '/content/gdrive/My Drive/EASY-ChargeCollection/Diodo-lat129-30V.h5',\n",
              " 7: '/content/gdrive/My Drive/EASY-ChargeCollection/Diodo-lat129-40V.h5',\n",
              " 8: '/content/gdrive/My Drive/EASY-ChargeCollection/Diodo-lat129-50V.h5',\n",
              " 9: '/content/gdrive/My Drive/EASY-ChargeCollection/Diodo-lat129-60V.h5',\n",
              " 10: '/content/gdrive/My Drive/EASY-ChargeCollection/Diodo-lat129-70V.h5',\n",
              " 11: '/content/gdrive/My Drive/EASY-ChargeCollection/Diodo-lat129-80V.h5',\n",
              " 12: '/content/gdrive/My Drive/EASY-ChargeCollection/Diodo-lat129-90V.h5',\n",
              " 13: '/content/gdrive/My Drive/EASY-ChargeCollection/Diodo-lat129-130V.h5',\n",
              " 14: '/content/gdrive/My Drive/EASY-ChargeCollection/Diodo-lat129-150V.h5',\n",
              " 15: '/content/gdrive/My Drive/EASY-ChargeCollection/Diodo-lat129-200V.h5'}"
            ]
          },
          "metadata": {
            "tags": []
          },
          "execution_count": 8
        }
      ]
    },
    {
      "cell_type": "markdown",
      "metadata": {
        "id": "hmEL4Xsn_DTp"
      },
      "source": [
        "## Options"
      ]
    },
    {
      "cell_type": "code",
      "metadata": {
        "id": "sLN4pQ30_OeQ"
      },
      "source": [
        "#################################################\n",
        "### Select File\n",
        "#################################################\n",
        "usedata_file = 11\n",
        "\n",
        "#################################################\n",
        "### Signal Processing\n",
        "#################################################\n",
        "\n",
        "# Signal/Noise cut\n",
        "options_sncut = 6.\n",
        "# Minimum TDC to be considered in the analysis\n",
        "options_tmin = 0.\n",
        "# Maximum TDC to be considered in the analysis\n",
        "options_tmax = 100.\n",
        "\n",
        "#################################################\n",
        "### Fit Settings\n",
        "#################################################\n",
        "\n",
        "# It will try a gauss fit to the data\n",
        "option_gauss = False\n",
        "# It will try a Landau-like fit to the data\n",
        "options_landau = True\n",
        "\n",
        "#################################################\n",
        "### Plot Settings\n",
        "#################################################\n",
        "\n",
        "# Minimum ADC for the fit\n",
        "options_fmin = 100.\n",
        "# Maximun ADC for the fit\n",
        "options_fmax = 250.\n",
        "# Minimum ADC for the plot\n",
        "options_ADCmin = 0.\n",
        "# Maximum ADC for the plot\n",
        "options_ADCmax = 600.\n",
        "# Binning for ADC plot\n",
        "options_ADCbin = 6.\n",
        "# Minimum energy for the fit\n",
        "options_Emin = 70.\n",
        "# Maximum energy for the fit\n",
        "options_Emax = 200.\n",
        "# Minimum Energy for the plot\n",
        "options_Eplotmin = 0.\n",
        "# Maximum Energy for the plot\n",
        "options_Eplotmax = 300.\n",
        "# Binning for Energy plot\n",
        "options_Eplotbin = 3.\n",
        "# Label for the plots\n",
        "options_label = \"Sr-90\"\n",
        "\n",
        "\n",
        "#################################################\n",
        "### Calibration (DO NOT MODIFY)\n",
        "#################################################\n",
        "\n",
        "# Parameter 0 to convert ADCs to Energy\n",
        "options_PE0 = -270.13\n",
        "# Parameter 1 to convert ADCs to Energy\n",
        "options_PE1 = 160.904\n",
        "# Parameter 2 to convert ADCs to Energy\n",
        "options_PE2 = 0.174026\n",
        "# Parameter 3 to convert ADCs to Energy\n",
        "options_PE3 = -0.000734166\n",
        "# Parameter 4 to convert ADCs to Energy\n",
        "options_PE4 = 0.0000018750\n",
        "\n"
      ],
      "execution_count": null,
      "outputs": []
    },
    {
      "cell_type": "markdown",
      "metadata": {
        "id": "u_KIsNU_Ede1"
      },
      "source": [
        "# Run Over Data"
      ]
    },
    {
      "cell_type": "code",
      "metadata": {
        "colab": {
          "base_uri": "https://localhost:8080/"
        },
        "id": "Eb3wPmfm6p8P",
        "outputId": "134a177a-97a2-44a6-81e7-bd239c41f0fe"
      },
      "source": [
        "##################################\n",
        "# Open data files\n",
        "##################################    \n",
        "\n",
        "fname = data_list[usedata_file]\n",
        "print(\" FILE    :\",fname)\n",
        "\n",
        "\n",
        "F = h5py.File(fname, 'r')\n",
        "\n",
        "\n",
        "# Get pedestals and noise\n",
        "pedestal = F['/header/pedestal']\n",
        "noise    = F['/header/noise']\n",
        "\n",
        "\n",
        "# Get the signal array\n",
        "S = F['/events/signal']\n",
        "\n",
        "tmin=float(options_tmin)\n",
        "tmax=float(options_tmax)\n",
        "sncut = float(options_sncut)\n",
        "\n",
        "\n",
        "# Convert pedestal and noise to \"vectors\"\n",
        "pedestal = pedestal[0,:]\n",
        "noise    = noise[0,:]\n",
        "sz       = pedestal.shape\n",
        "\n",
        "# Get the number of channesl\n",
        "nchan    = sz[0]\n",
        "\n",
        "#\n",
        "# Now process the whole file\n",
        "#\n",
        "# Get the events with good timing\n",
        "\n",
        "T     = F['/events/time']\n",
        "GT    = nonzero(T[:]>tmin)\n",
        "\n",
        "# Number of events in file with good time\n",
        "nevts = GT[0].shape[0]\n",
        "\n",
        "# Reduce the data sample to those events\n",
        "print (\"Loop on Events. ..................... Nevt=\", nevts)\n",
        "\n",
        "TT = GTimer() # This is to show the number of events processed\n",
        "TG = GTimer() # This is to profile the process\n",
        "\n",
        "Ttot = 0.0\n",
        "#\n",
        "# This is to keep the cluster energy\n",
        "#\n",
        "G = zeros(0)\n",
        "Graw = zeros(0)\n",
        "Gcal = zeros(0)  \n",
        "        \n",
        "\n",
        "H = zeros(nchan)\n",
        "SelCl = zeros(nchan)\n",
        "CLsize = zeros(nchan)\n",
        "\n",
        "#\n",
        "# This is to keep the Hip map\n",
        "#\n",
        "Hitm = zeros(nchan)\n",
        "\n",
        "#\n",
        "# This is to keep the timming of the cluster\n",
        "\n",
        "\n",
        "TMap=zeros(101)\n",
        "TCls=zeros(101)\n",
        "\n",
        "#\n",
        "# This is to keep the common mode of each event\n",
        "#\n",
        "C = 0.\n",
        "\n",
        "\n",
        "#\n",
        "# Start the timers and the main loop\n",
        "#     \n",
        "TT.start()\n",
        "TG.start()\n",
        "\n",
        "nevtot=0.\n",
        "\n",
        "########################\n",
        "# Loop over events\n",
        "########################\n",
        "\n",
        "#for im , ievt in enumerate(GT[0]):\n",
        "for  ievt in  range(0,2000):\n",
        "        \n",
        "    if T[ievt]<=tmin or T[ievt]>tmax :\n",
        "        continue\n",
        "    ic = ievt\n",
        "\n",
        "    # Process the event\n",
        "    ss, sn, cm = process_event(ievt, S, nchan, pedestal, noise)\n",
        "    nevtot= nevtot +1\n",
        "\n",
        "    \n",
        "    if TT() > 1.0:\n",
        "        print (  \"Processing .... (event number, total number of events):\",ievt, int(nevtot))\n",
        "        \n",
        "        TT.reset()\n",
        "        \n",
        "    # Append the commpn mode.\n",
        "    \n",
        "    C = append(C, cm)\n",
        "\n",
        "\n",
        "    #\n",
        "    # find the clusters\n",
        "    #\n",
        "    used = [ False for x in range(0, nchan) ]\n",
        "    channels = nonzero(sn>sncut)\n",
        "    \n",
        "    nclus = 0\n",
        "    EClst = zeros(nchan)\n",
        "    \n",
        "    for ch in channels[0]:\n",
        "        ###############\n",
        "        # Mask channels\n",
        "        ###############\n",
        "        if ch>51. and ch<55.:\n",
        "            used[ch]= True\n",
        "\n",
        "        if not used[ch]:\n",
        "            nclus= nclus +1 \n",
        "            EClst[nclus] = ss[ch]\n",
        "            clst = [ch]\n",
        "            Hitm [ch] = Hitm [ch] + 1\n",
        "            used[ch] = True\n",
        "                \n",
        "            for i in range(ch+1, nchan, 1):\n",
        "                if sn[i]>sncut and not used[i]:\n",
        "                    clst.append(i)\n",
        "                    used[i] = True\n",
        "                    EClst[nclus] = EClst[nclus] + ss[i]\n",
        "                    Hitm [i] = Hitm [i] + 1\n",
        "                else:\n",
        "                    break\n",
        "\n",
        "        \n",
        "            ind=int(T[ievt])\n",
        "            TMap[ind]=TMap[ind]+EClst[nclus]\n",
        "            TCls[ind]= TCls[ind]+1\n",
        "          \n",
        "            if EClst[nclus]>(sncut*1):\n",
        "                isz = int(size(clst))\n",
        "                CLsize[isz] = CLsize[isz] +1\n",
        "              \n",
        "                \n",
        "\n",
        "\n",
        "            SelCl[nclus] = 0\n",
        "            \n",
        "                \n",
        "    H[nclus] = H[nclus]+1\n",
        "\n",
        "    SelCl[nclus] = 1\n",
        "    \n",
        "    \n",
        "    \n",
        "    for i in range(1, nclus+1):\n",
        "        if EClst[i]>(sncut*1.) and SelCl[nclus]>0.:\n",
        "            G = append(G, EClst[i])\n",
        "            PE0 = options_PE0\n",
        "            PE1 = options_PE1\n",
        "            PE2 = options_PE2\n",
        "            PE3 = options_PE3\n",
        "            PE4 = options_PE4\n",
        "            Elec = PE0 + (PE1*EClst[i]) + (PE2*(EClst[i]**2)) +(PE3*(EClst[i]**3))+(PE4*(EClst[i]**4))\n",
        "            Elec = Elec * 3.67\n",
        "            if Elec>0.:\n",
        "                Elec = Elec/1000\n",
        "      \n",
        "            Gcal = append(Gcal, Elec)\n",
        "          \n",
        "            \n",
        "            \n",
        "      \n",
        "TT.stop()    \n",
        "print (\"\\nTotal time elapsed:                 \", TG())\n",
        "print (\"\\nTotal events processed in time:     \", nevtot)"
      ],
      "execution_count": null,
      "outputs": [
        {
          "output_type": "stream",
          "text": [
            " FILE    : /content/gdrive/My Drive/EASY-ChargeCollection/Diodo-lat129-80V.h5\n",
            "Loop on Events. ..................... Nevt= 47765\n",
            "Processing .... (event number, total number of events): 606 607\n",
            "Processing .... (event number, total number of events): 1231 1231\n",
            "Processing .... (event number, total number of events): 1836 1836\n",
            "\n",
            "Total time elapsed:                  3.274527072906494\n",
            "\n",
            "Total events processed in time:      1999.0\n"
          ],
          "name": "stdout"
        }
      ]
    },
    {
      "cell_type": "markdown",
      "metadata": {
        "id": "Ip-NTqtW6lI1"
      },
      "source": [
        "# Produce Plots"
      ]
    },
    {
      "cell_type": "markdown",
      "metadata": {
        "id": "wTPh52_OD7yT"
      },
      "source": [
        "### Common Mode and Hitmap"
      ]
    },
    {
      "cell_type": "code",
      "metadata": {
        "id": "KBIoZk_r6cOF",
        "colab": {
          "base_uri": "https://localhost:8080/",
          "height": 621
        },
        "outputId": "cc064385-9e81-4de2-a9e4-25f3ada4e8b8"
      },
      "source": [
        "#######################        \n",
        "# PLot some quantities\n",
        "########################\n",
        "\n",
        "plt.figure(1,figsize=(15, 10))\n",
        "\n",
        "# The common mode\n",
        "X = r_[-50:50]\n",
        "plt.subplot(2,1,1)\n",
        "plt.title(\"Common mode (ADC)\")\n",
        "plt.ylabel('Number of events')\n",
        "plt.xlabel('ADC counts')\n",
        "n, bins, patches = plt.hist(C,X,color=\"mediumseagreen\",density=True)\n",
        "#   \n",
        "mu, sigma = gaus.fit(C)\n",
        "y = norm.pdf(bins, mu, sigma)\n",
        "l = plt.plot(bins, y, 'r-', linewidth=2)\n",
        "p = plt.Rectangle((0, 0), 1, 1, fc=\"r\")\n",
        "plt.legend([p], [r'$\\mu$=%.3f $\\sigma$=%.1f' %( mu, sigma)], loc=1,fontsize=\"xx-large\")\n",
        "\n",
        "# The Hip map\n",
        "X = r_[0:128:1]\n",
        "plt.subplot(3,1,3)\n",
        "plt.title(\"Hit map (Channel)\")  \n",
        "plt.ylabel('Number of entries')\n",
        "plt.xlabel('Channel number')  \n",
        "plt.bar(X,Hitm,color=\"mediumseagreen\")\n",
        "plt.show()"
      ],
      "execution_count": null,
      "outputs": [
        {
          "output_type": "display_data",
          "data": {
            "image/png": "[encoded data removed]",
            "text/plain": [
              "<Figure size 1080x720 with 2 Axes>"
            ]
          },
          "metadata": {
            "tags": [],
            "needs_background": "light"
          }
        }
      ]
    },
    {
      "cell_type": "markdown",
      "metadata": {
        "id": "HwI8wdXUEEYL"
      },
      "source": [
        "### Pedestals and Electronic Noise"
      ]
    },
    {
      "cell_type": "code",
      "metadata": {
        "id": "LTDY2BjrDIE9",
        "colab": {
          "base_uri": "https://localhost:8080/",
          "height": 621
        },
        "outputId": "76cff3a4-4f22-4e7b-cf95-e3cdee2c72d3"
      },
      "source": [
        "plt.figure(2,figsize=(15, 10))\n",
        "\n",
        "# Pedestals\n",
        "X = r_[0:128:1]\n",
        "plt.subplot(3,1,1)\n",
        "plt.title(\"Pedestal vs Channel\")   \n",
        "plt.ylabel('Pedestal (ADCs)')\n",
        "plt.xlabel('Channal number')  \n",
        "plt.bar(X,pedestal,color=\"mediumseagreen\")  \n",
        "\n",
        "\n",
        "# Noise\n",
        "X = r_[0:128:1]\n",
        "plt.subplot(2,1,2)\n",
        "plt.title(\"Noise vs Channel\") \n",
        "plt.ylabel('Noise (ADCs)')\n",
        "plt.xlabel('Channal number')    \n",
        "plt.bar(X,noise,color=\"mediumseagreen\") \n",
        "plt.show()"
      ],
      "execution_count": null,
      "outputs": [
        {
          "output_type": "display_data",
          "data": {
            "image/png": "[encoded data removed]",
            "text/plain": [
              "<Figure size 1080x720 with 2 Axes>"
            ]
          },
          "metadata": {
            "tags": [],
            "needs_background": "light"
          }
        }
      ]
    },
    {
      "cell_type": "markdown",
      "metadata": {
        "id": "yQZxrLbCEHy_"
      },
      "source": [
        "### Clusters and Timing"
      ]
    },
    {
      "cell_type": "code",
      "metadata": {
        "id": "SIj14TZVDR6E",
        "colab": {
          "base_uri": "https://localhost:8080/",
          "height": 621
        },
        "outputId": "0a578257-5c26-420a-f212-50266ee7eb23"
      },
      "source": [
        "plt.figure(3,figsize=(15, 10))\n",
        "\n",
        "# Number of Clusters\n",
        "X = r_[0:127:1]\n",
        "plt.subplot(2,2,1)\n",
        "plt.title(\"Number of clusters per event\")  \n",
        "plt.xlabel('Number of cluster')  \n",
        "plt.xlim((0,20))\n",
        "plt.bar(X,H[:127],color=\"mediumseagreen\")\n",
        "Tot=0\n",
        "Ntot = 0\n",
        "for i in range(0, 127):\n",
        "    Tot = Tot + i*H[i]\n",
        "    Ntot = Ntot + H[i]\n",
        "if Tot>0:\n",
        "    Tot =Tot/Ntot\n",
        "\n",
        "#  Clusters size \n",
        "X = r_[0:127:1]\n",
        "plt.subplot(2,2,2)\n",
        "plt.title(\"Cluster size\") \n",
        "plt.xlabel('Number of chnnels') \n",
        "plt.xlim((0,10)) \n",
        "plt.bar(X,CLsize[:127],color=\"mediumseagreen\")\n",
        "Tot=0\n",
        "Ntot = 0\n",
        "for i in range(0, 127):\n",
        "    Tot = Tot + i*CLsize[i]\n",
        "    Ntot = Ntot + CLsize[i]\n",
        "if Tot>0:\n",
        "    Tot =Tot/Ntot\n",
        "\n",
        "# Timing\n",
        "X = r_[0:101:1]\n",
        "plt.subplot(3,1,3)\n",
        "plt.title(\"Timming (ns)\")  \n",
        "plt.ylabel('Number of entries')\n",
        "plt.xlabel('Time')\n",
        "\n",
        "for i in range(0, 101):\n",
        "    if TCls[i]>0:\n",
        "        TMap[i]=TMap[i]/TCls[i] \n",
        "plt.bar(X,TMap,color=\"mediumseagreen\")\n",
        "plt.show()\n"
      ],
      "execution_count": null,
      "outputs": [
        {
          "output_type": "display_data",
          "data": {
            "image/png": "[encoded data removed]",
            "text/plain": [
              "<Figure size 1080x720 with 3 Axes>"
            ]
          },
          "metadata": {
            "tags": [],
            "needs_background": "light"
          }
        }
      ]
    },
    {
      "cell_type": "markdown",
      "metadata": {
        "id": "RXCTmsexEKtJ"
      },
      "source": [
        "### Raw Data"
      ]
    },
    {
      "cell_type": "code",
      "metadata": {
        "id": "s3YEwyM6DWq7",
        "colab": {
          "base_uri": "https://localhost:8080/",
          "height": 621
        },
        "outputId": "c40a1c4a-a364-4e8f-98ca-59f2f26af01d"
      },
      "source": [
        "plt.figure(4,figsize=(15, 10))\n",
        "\n",
        "# Data histogram (the landau)\n",
        "\n",
        "X = r_[0:600:1]\n",
        "plt.title(\"Row Data (ADC)\")\n",
        "plt.ylabel('Number of entries')\n",
        "plt.xlabel('Charge (ACDs)')\n",
        "plt.ylim(1,100000)\n",
        "n, bins, patches = plt.hist(G,X,color=\"mediumseagreen\",log=True)\n",
        "plt.show()"
      ],
      "execution_count": null,
      "outputs": [
        {
          "output_type": "display_data",
          "data": {
            "image/png": "[encoded data removed]",
            "text/plain": [
              "<Figure size 1080x720 with 1 Axes>"
            ]
          },
          "metadata": {
            "tags": [],
            "needs_background": "light"
          }
        }
      ]
    },
    {
      "cell_type": "markdown",
      "metadata": {
        "id": "r2t5TmByEM47"
      },
      "source": [
        "### ADC Counts"
      ]
    },
    {
      "cell_type": "code",
      "metadata": {
        "id": "kBwVS2XcDde-",
        "colab": {
          "base_uri": "https://localhost:8080/",
          "height": 621
        },
        "outputId": "868380fa-a539-487a-8db5-a77ef68cab78"
      },
      "source": [
        "plt.figure(5,figsize=(15, 10))\n",
        "\n",
        "# Data histogram (the landau)\n",
        "ADCbin=int(options_ADCbin)\n",
        "ADCmax=int(options_ADCmax)\n",
        "ADCmin=int(options_ADCmin)\n",
        "\n",
        "X = r_[ADCmin:ADCmax:ADCbin]\n",
        "plt.title(options_label) \n",
        "plt.xlabel('Charge (ACDs)')\n",
        "plt.xlabel('Charge (ACDs)')\n",
        "\n",
        "n, bins, patches = plt.hist(G,X,color=\"mediumseagreen\")\n",
        "\n",
        "fit_landau = options_landau\n",
        "\n",
        "ibinmax= ADCbin*(int(options_fmax/ADCbin))\n",
        "ibinmin= ADCbin*(int(options_fmin/ADCbin))\n",
        "X = r_[ibinmin:ibinmax:ADCbin]\n",
        "\n",
        "n, bins, patches = plt.hist(G,X,color = 'g')\n",
        "indx = argmax(n, 0)\n",
        "if fit_landau:\n",
        "    errFunc = fitLandau\n",
        "    dataFunc = fLandau\n",
        "    param = [ 0.25*sum(n), bins[indx], 10. ]\n",
        "else:\n",
        "    errFunc = fitGauss\n",
        "    dataFunc = fgauss\n",
        "    param = [ sum(n), bins[indx], 10. ]\n",
        "\n",
        "\n",
        "# Fit to the landau o gauss distribution \n",
        "\n",
        "step = 0.5*(bins[1]-bins[0])\n",
        "X = bins[:-1] + step\n",
        "fit_rc = optimize.leastsq(errFunc, param[:], args=(X, n))\n",
        "fit_par = fit_rc[0]\n",
        "\n",
        "# Draw the fitted curve on top of the histogram\n",
        "y = dataFunc(fit_par, X)\n",
        "l = plt.plot(X, y, 'r-', linewidth=2, label=\"hola\")\n",
        "plt.legend([p],[r'mean  %.1f sigma %.1f' % (fit_par[1], fit_par[2])], loc=1,fontsize=\"xx-large\")\n",
        "plt.axvspan(options_fmin, options_fmax, alpha=0.20,facecolor='g')\n",
        "plt.show()"
      ],
      "execution_count": null,
      "outputs": [
        {
          "output_type": "display_data",
          "data": {
            "image/png": "[encoded data removed]",
            "text/plain": [
              "<Figure size 1080x720 with 1 Axes>"
            ]
          },
          "metadata": {
            "tags": [],
            "needs_background": "light"
          }
        }
      ]
    },
    {
      "cell_type": "markdown",
      "metadata": {
        "id": "Ie8PilAQEPcz"
      },
      "source": [
        "### Energy"
      ]
    },
    {
      "cell_type": "code",
      "metadata": {
        "id": "ZiSYlo-7DjRP",
        "colab": {
          "base_uri": "https://localhost:8080/",
          "height": 621
        },
        "outputId": "331f2357-5759-4a27-9e5e-c2f2ed1848af"
      },
      "source": [
        "plt.figure(6,figsize=(15, 10))\n",
        "\n",
        "# Data histogram calibrated (the landau)\n",
        "Eplotbin=int(options_Eplotbin)\n",
        "Eplotmax=int(options_Eplotmax)\n",
        "Eplotmin=int(options_Eplotmin)\n",
        "\n",
        "X = r_[Eplotmin:Eplotmax:Eplotbin]\n",
        "\n",
        "plt.title(options_label) \n",
        "plt.ylabel('Number of entries')\n",
        "plt.xlabel('Energy (KeV)')\n",
        "\n",
        "n, bins, patches = plt.hist(Gcal,X,color=\"mediumseagreen\")\n",
        "\n",
        "fit_landau = options_landau\n",
        "\n",
        "Elecmin = options_Emin\n",
        "Elecmax = options_Emax\n",
        "\n",
        "\n",
        "ibinEmax= Eplotbin*(int(Elecmax/Eplotbin))\n",
        "ibinEmin= Eplotbin*(int(Elecmin/Eplotbin))\n",
        "\n",
        "X = r_[ibinEmin:ibinEmax:Eplotbin]\n",
        "\n",
        "n, bins, patches = plt.hist(Gcal,X,color = 'g')\n",
        "indx = argmax(n, 0)\n",
        "if fit_landau:\n",
        "    errFunc = fitLandau\n",
        "    dataFunc = fLandau\n",
        "    param = [ 0.25*sum(n), bins[indx], 10. ]\n",
        "else:\n",
        "    errFunc = fitGauss\n",
        "    dataFunc = fgauss\n",
        "    param = [ sum(n), bins[indx], 10. ]\n",
        "\n",
        "\n",
        "# Fit to the landau distribution \n",
        "\n",
        "step = 0.5*(bins[1]-bins[0])\n",
        "X = bins[:-1] + step\n",
        "fit_rc = optimize.leastsq(errFunc, param[:], args=(X, n))\n",
        "fit_par = fit_rc[0]\n",
        "\n",
        "# Draw the fitted curve on top of the histogram\n",
        "y = dataFunc(fit_par, X)\n",
        "l = plt.plot(X, y, 'r-', linewidth=2, label=\"hola\")\n",
        "plt. legend([p],[r'mean  %.1f sigma %.1f' % (fit_par[1], fit_par[2])],loc=1,fontsize=\"xx-large\")\n",
        "\n",
        "plt.axvspan(Elecmin, Elecmax, alpha=0.20,facecolor='g')\n",
        "plt.show()"
      ],
      "execution_count": null,
      "outputs": [
        {
          "output_type": "display_data",
          "data": {
            "image/png": "[encoded data removed]",
            "text/plain": [
              "<Figure size 1080x720 with 1 Axes>"
            ]
          },
          "metadata": {
            "tags": [],
            "needs_background": "light"
          }
        }
      ]
    }
  ]
}